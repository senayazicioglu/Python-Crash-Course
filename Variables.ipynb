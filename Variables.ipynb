{
 "cells": [
  {
   "cell_type": "code",
   "execution_count": 2,
   "id": "99fa38af",
   "metadata": {},
   "outputs": [
    {
     "name": "stdout",
     "output_type": "stream",
     "text": [
      "hello\n"
     ]
    }
   ],
   "source": [
    "print(\"hello\")"
   ]
  },
  {
   "cell_type": "code",
   "execution_count": 3,
   "id": "19c66594",
   "metadata": {},
   "outputs": [
    {
     "data": {
      "text/plain": [
       "9"
      ]
     },
     "execution_count": 3,
     "metadata": {},
     "output_type": "execute_result"
    }
   ],
   "source": [
    "5 + 4"
   ]
  },
  {
   "cell_type": "code",
   "execution_count": 4,
   "id": "6e810d8d",
   "metadata": {},
   "outputs": [
    {
     "name": "stdout",
     "output_type": "stream",
     "text": [
      "hello\n",
      "world\n"
     ]
    }
   ],
   "source": [
    "print(\"hello\")\n",
    "print(\"world\")"
   ]
  },
  {
   "cell_type": "code",
   "execution_count": 5,
   "id": "467ac0fc",
   "metadata": {},
   "outputs": [],
   "source": [
    "x = 5"
   ]
  },
  {
   "cell_type": "code",
   "execution_count": 6,
   "id": "eca07e6d",
   "metadata": {},
   "outputs": [
    {
     "data": {
      "text/plain": [
       "int"
      ]
     },
     "execution_count": 6,
     "metadata": {},
     "output_type": "execute_result"
    }
   ],
   "source": [
    "type(x)"
   ]
  },
  {
   "cell_type": "code",
   "execution_count": 7,
   "id": "775175d0",
   "metadata": {},
   "outputs": [],
   "source": [
    "pi = 3.14"
   ]
  },
  {
   "cell_type": "code",
   "execution_count": 8,
   "id": "45d430ac",
   "metadata": {},
   "outputs": [
    {
     "data": {
      "text/plain": [
       "float"
      ]
     },
     "execution_count": 8,
     "metadata": {},
     "output_type": "execute_result"
    }
   ],
   "source": [
    "type(pi)"
   ]
  },
  {
   "cell_type": "code",
   "execution_count": 9,
   "id": "82fac53f",
   "metadata": {},
   "outputs": [
    {
     "data": {
      "text/plain": [
       "5"
      ]
     },
     "execution_count": 9,
     "metadata": {},
     "output_type": "execute_result"
    }
   ],
   "source": [
    "x"
   ]
  },
  {
   "cell_type": "code",
   "execution_count": 10,
   "id": "f18c2118",
   "metadata": {},
   "outputs": [],
   "source": [
    "x = 4.4"
   ]
  },
  {
   "cell_type": "code",
   "execution_count": 11,
   "id": "113c3523",
   "metadata": {},
   "outputs": [
    {
     "data": {
      "text/plain": [
       "float"
      ]
     },
     "execution_count": 11,
     "metadata": {},
     "output_type": "execute_result"
    }
   ],
   "source": [
    "type(x)"
   ]
  },
  {
   "cell_type": "code",
   "execution_count": 12,
   "id": "e5fcf697",
   "metadata": {},
   "outputs": [],
   "source": [
    "x = \"sena\""
   ]
  },
  {
   "cell_type": "code",
   "execution_count": 13,
   "id": "e03d7c92",
   "metadata": {},
   "outputs": [
    {
     "data": {
      "text/plain": [
       "str"
      ]
     },
     "execution_count": 13,
     "metadata": {},
     "output_type": "execute_result"
    }
   ],
   "source": [
    "type(x)"
   ]
  },
  {
   "cell_type": "code",
   "execution_count": 14,
   "id": "f8df6277",
   "metadata": {},
   "outputs": [],
   "source": [
    "myBoolean = True"
   ]
  },
  {
   "cell_type": "code",
   "execution_count": 15,
   "id": "c4c53c97",
   "metadata": {},
   "outputs": [],
   "source": [
    "myBoolean = False"
   ]
  },
  {
   "cell_type": "code",
   "execution_count": 16,
   "id": "73cfba2a",
   "metadata": {},
   "outputs": [
    {
     "data": {
      "text/plain": [
       "bool"
      ]
     },
     "execution_count": 16,
     "metadata": {},
     "output_type": "execute_result"
    }
   ],
   "source": [
    "type(myBoolean)"
   ]
  },
  {
   "cell_type": "code",
   "execution_count": 17,
   "id": "a3da3d8a",
   "metadata": {},
   "outputs": [],
   "source": [
    "myString = \"sena yazicioglu\""
   ]
  },
  {
   "cell_type": "code",
   "execution_count": 22,
   "id": "cbb6a2a6",
   "metadata": {},
   "outputs": [
    {
     "data": {
      "text/plain": [
       "'e'"
      ]
     },
     "execution_count": 22,
     "metadata": {},
     "output_type": "execute_result"
    }
   ],
   "source": [
    "myString[1]"
   ]
  },
  {
   "cell_type": "code",
   "execution_count": 23,
   "id": "4fc91d9b",
   "metadata": {},
   "outputs": [
    {
     "data": {
      "text/plain": [
       "15"
      ]
     },
     "execution_count": 23,
     "metadata": {},
     "output_type": "execute_result"
    }
   ],
   "source": [
    "len(myString)"
   ]
  },
  {
   "cell_type": "code",
   "execution_count": 24,
   "id": "2514a8d3",
   "metadata": {},
   "outputs": [
    {
     "data": {
      "text/plain": [
       "'u'"
      ]
     },
     "execution_count": 24,
     "metadata": {},
     "output_type": "execute_result"
    }
   ],
   "source": [
    "myString[len(myString)-1]"
   ]
  },
  {
   "cell_type": "code",
   "execution_count": 27,
   "id": "698d19ca",
   "metadata": {},
   "outputs": [
    {
     "data": {
      "text/plain": [
       "'u'"
      ]
     },
     "execution_count": 27,
     "metadata": {},
     "output_type": "execute_result"
    }
   ],
   "source": [
    "myString[-1]"
   ]
  },
  {
   "cell_type": "code",
   "execution_count": 28,
   "id": "6e428ff4",
   "metadata": {},
   "outputs": [
    {
     "data": {
      "text/plain": [
       "'sena yazicioglusena yazicioglu'"
      ]
     },
     "execution_count": 28,
     "metadata": {},
     "output_type": "execute_result"
    }
   ],
   "source": [
    "myString * 2"
   ]
  },
  {
   "cell_type": "code",
   "execution_count": 29,
   "id": "ea65af92",
   "metadata": {},
   "outputs": [
    {
     "data": {
      "text/plain": [
       "'senayazicioglu'"
      ]
     },
     "execution_count": 29,
     "metadata": {},
     "output_type": "execute_result"
    }
   ],
   "source": [
    "\"sena\" + \"yazicioglu\""
   ]
  },
  {
   "cell_type": "code",
   "execution_count": 30,
   "id": "dc20b525",
   "metadata": {},
   "outputs": [],
   "source": [
    "#slicing"
   ]
  },
  {
   "cell_type": "code",
   "execution_count": 31,
   "id": "b5808b82",
   "metadata": {},
   "outputs": [
    {
     "data": {
      "text/plain": [
       "'sena yazicioglu'"
      ]
     },
     "execution_count": 31,
     "metadata": {},
     "output_type": "execute_result"
    }
   ],
   "source": [
    "myString"
   ]
  },
  {
   "cell_type": "code",
   "execution_count": 32,
   "id": "019898a8",
   "metadata": {},
   "outputs": [
    {
     "data": {
      "text/plain": [
       "<function str.capitalize()>"
      ]
     },
     "execution_count": 32,
     "metadata": {},
     "output_type": "execute_result"
    }
   ],
   "source": [
    "myString.capitalize"
   ]
  },
  {
   "cell_type": "code",
   "execution_count": 33,
   "id": "6032bc14",
   "metadata": {},
   "outputs": [
    {
     "data": {
      "text/plain": [
       "'Sena yazicioglu'"
      ]
     },
     "execution_count": 33,
     "metadata": {},
     "output_type": "execute_result"
    }
   ],
   "source": [
    "myString.capitalize()"
   ]
  },
  {
   "cell_type": "code",
   "execution_count": 34,
   "id": "5637fbd7",
   "metadata": {},
   "outputs": [
    {
     "data": {
      "text/plain": [
       "2"
      ]
     },
     "execution_count": 34,
     "metadata": {},
     "output_type": "execute_result"
    }
   ],
   "source": [
    "myString.count(\"a\")"
   ]
  },
  {
   "cell_type": "code",
   "execution_count": 35,
   "id": "6ff75d51",
   "metadata": {},
   "outputs": [
    {
     "data": {
      "text/plain": [
       "'sena yazicioglu'"
      ]
     },
     "execution_count": 35,
     "metadata": {},
     "output_type": "execute_result"
    }
   ],
   "source": [
    "myString"
   ]
  },
  {
   "cell_type": "code",
   "execution_count": 36,
   "id": "25617f43",
   "metadata": {},
   "outputs": [
    {
     "data": {
      "text/plain": [
       "'a yazicioglu'"
      ]
     },
     "execution_count": 36,
     "metadata": {},
     "output_type": "execute_result"
    }
   ],
   "source": [
    "myString[3:] #starting index - 3. indexten sonrasını alır"
   ]
  },
  {
   "cell_type": "code",
   "execution_count": 37,
   "id": "0364205f",
   "metadata": {},
   "outputs": [
    {
     "data": {
      "text/plain": [
       "'sen'"
      ]
     },
     "execution_count": 37,
     "metadata": {},
     "output_type": "execute_result"
    }
   ],
   "source": [
    "myString[:3] #stopping index - 3. indexte durar"
   ]
  },
  {
   "cell_type": "code",
   "execution_count": 38,
   "id": "b0cbc66e",
   "metadata": {},
   "outputs": [],
   "source": [
    "barcode = \"156s1651d6565as4fd5af\""
   ]
  },
  {
   "cell_type": "code",
   "execution_count": 39,
   "id": "55f4e46b",
   "metadata": {},
   "outputs": [
    {
     "data": {
      "text/plain": [
       "'1651d6565as4fd5af'"
      ]
     },
     "execution_count": 39,
     "metadata": {},
     "output_type": "execute_result"
    }
   ],
   "source": [
    "barcode[4:]"
   ]
  },
  {
   "cell_type": "code",
   "execution_count": 40,
   "id": "b546992c",
   "metadata": {},
   "outputs": [
    {
     "data": {
      "text/plain": [
       "'1651'"
      ]
     },
     "execution_count": 40,
     "metadata": {},
     "output_type": "execute_result"
    }
   ],
   "source": [
    "barcode[4:8]"
   ]
  },
  {
   "cell_type": "code",
   "execution_count": 41,
   "id": "0d329bfa",
   "metadata": {},
   "outputs": [
    {
     "data": {
      "text/plain": [
       "'1615d55sf5f'"
      ]
     },
     "execution_count": 41,
     "metadata": {},
     "output_type": "execute_result"
    }
   ],
   "source": [
    "barcode[::2] #stepping size - ikişer ikişer atlayarak gider"
   ]
  },
  {
   "cell_type": "code",
   "execution_count": 42,
   "id": "632bc9ca",
   "metadata": {},
   "outputs": [
    {
     "data": {
      "text/plain": [
       "'fa5df4sa5656d1561s651'"
      ]
     },
     "execution_count": 42,
     "metadata": {},
     "output_type": "execute_result"
    }
   ],
   "source": [
    "barcode[::-1] # barkodu tam tersine cevirir"
   ]
  },
  {
   "cell_type": "code",
   "execution_count": null,
   "id": "7bd373f2",
   "metadata": {},
   "outputs": [],
   "source": []
  }
 ],
 "metadata": {
  "kernelspec": {
   "display_name": "Python 3 (ipykernel)",
   "language": "python",
   "name": "python3"
  },
  "language_info": {
   "codemirror_mode": {
    "name": "ipython",
    "version": 3
   },
   "file_extension": ".py",
   "mimetype": "text/x-python",
   "name": "python",
   "nbconvert_exporter": "python",
   "pygments_lexer": "ipython3",
   "version": "3.9.13"
  }
 },
 "nbformat": 4,
 "nbformat_minor": 5
}
