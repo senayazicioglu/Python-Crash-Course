{
 "cells": [
  {
   "cell_type": "code",
   "execution_count": 42,
   "id": "19c71bb4",
   "metadata": {},
   "outputs": [],
   "source": [
    "class Musician():\n",
    "    #name = \"\"\n",
    "    \n",
    "    job = \"Musician\"\n",
    "    \n",
    "    def __init__(self,name,age,instrument):\n",
    "        self.name = name\n",
    "        self.age = age\n",
    "        self.instrument = instrument\n",
    "        \n",
    "    def sing(self):\n",
    "        print(\"sing sing sing\")\n",
    "        \n",
    "    def __len__(self):\n",
    "        return self.age\n",
    "    \n",
    "    def __str__(self):\n",
    "        return self.name"
   ]
  },
  {
   "cell_type": "code",
   "execution_count": 49,
   "id": "5d51fbd6",
   "metadata": {},
   "outputs": [],
   "source": [
    "sena = Musician(\"Sena\",20,\"guitar\") #instance"
   ]
  },
  {
   "cell_type": "code",
   "execution_count": 50,
   "id": "89a60504",
   "metadata": {},
   "outputs": [
    {
     "data": {
      "text/plain": [
       "'guitar'"
      ]
     },
     "execution_count": 50,
     "metadata": {},
     "output_type": "execute_result"
    }
   ],
   "source": [
    "sena.instrument"
   ]
  },
  {
   "cell_type": "code",
   "execution_count": 51,
   "id": "bd36d174",
   "metadata": {},
   "outputs": [
    {
     "data": {
      "text/plain": [
       "'Musician'"
      ]
     },
     "execution_count": 51,
     "metadata": {},
     "output_type": "execute_result"
    }
   ],
   "source": [
    "sena.job"
   ]
  },
  {
   "cell_type": "code",
   "execution_count": 52,
   "id": "4d2bff8a",
   "metadata": {},
   "outputs": [
    {
     "name": "stdout",
     "output_type": "stream",
     "text": [
      "sing sing sing\n"
     ]
    }
   ],
   "source": [
    "sena.sing()"
   ]
  },
  {
   "cell_type": "code",
   "execution_count": 53,
   "id": "4d6793d0",
   "metadata": {},
   "outputs": [
    {
     "data": {
      "text/plain": [
       "20"
      ]
     },
     "execution_count": 53,
     "metadata": {},
     "output_type": "execute_result"
    }
   ],
   "source": [
    "len(sena)"
   ]
  },
  {
   "cell_type": "code",
   "execution_count": 54,
   "id": "a0d2a9f3",
   "metadata": {},
   "outputs": [
    {
     "name": "stdout",
     "output_type": "stream",
     "text": [
      "Sena\n"
     ]
    }
   ],
   "source": [
    "print(sena)"
   ]
  },
  {
   "cell_type": "code",
   "execution_count": 55,
   "id": "db5a9b5b",
   "metadata": {},
   "outputs": [],
   "source": [
    "#inheritance"
   ]
  },
  {
   "cell_type": "code",
   "execution_count": 56,
   "id": "9213cb27",
   "metadata": {},
   "outputs": [],
   "source": [
    "class Class1():\n",
    "    \n",
    "    def __init__(self):\n",
    "        print(\"class 1 created\")\n",
    "    \n",
    "    def method1(self):\n",
    "        print(\"method 1\")\n",
    "        \n",
    "    def method2(self):\n",
    "        print(\"method 2\")"
   ]
  },
  {
   "cell_type": "code",
   "execution_count": 57,
   "id": "d75e7a6d",
   "metadata": {},
   "outputs": [
    {
     "name": "stdout",
     "output_type": "stream",
     "text": [
      "class 1 created\n"
     ]
    }
   ],
   "source": [
    "class1Instance = Class1()"
   ]
  },
  {
   "cell_type": "code",
   "execution_count": 58,
   "id": "0e9f5166",
   "metadata": {},
   "outputs": [
    {
     "name": "stdout",
     "output_type": "stream",
     "text": [
      "method 1\n"
     ]
    }
   ],
   "source": [
    "class1Instance.method1()"
   ]
  },
  {
   "cell_type": "code",
   "execution_count": 60,
   "id": "17c1095d",
   "metadata": {},
   "outputs": [],
   "source": [
    "class Class2(Class1):\n",
    "    \n",
    "    def __init__(self):\n",
    "        Class1.__init__(self)\n",
    "        print(\"class 2 created\")\n",
    "    "
   ]
  },
  {
   "cell_type": "code",
   "execution_count": 61,
   "id": "24928810",
   "metadata": {},
   "outputs": [
    {
     "name": "stdout",
     "output_type": "stream",
     "text": [
      "class 1 created\n",
      "class 2 created\n"
     ]
    }
   ],
   "source": [
    "class2Instance = Class2()"
   ]
  },
  {
   "cell_type": "code",
   "execution_count": 62,
   "id": "4cf97268",
   "metadata": {},
   "outputs": [
    {
     "name": "stdout",
     "output_type": "stream",
     "text": [
      "method 1\n"
     ]
    }
   ],
   "source": [
    "class2Instance.method1()"
   ]
  },
  {
   "cell_type": "code",
   "execution_count": 63,
   "id": "bcc0343e",
   "metadata": {},
   "outputs": [],
   "source": [
    "#polymorphism"
   ]
  },
  {
   "cell_type": "code",
   "execution_count": 77,
   "id": "a5eca83c",
   "metadata": {},
   "outputs": [],
   "source": [
    "class Apple():\n",
    "    \n",
    "    def __init__(self,name):\n",
    "        self.name = name\n",
    "        \n",
    "    def information(self):\n",
    "        return self.name + \" 100 calories\""
   ]
  },
  {
   "cell_type": "code",
   "execution_count": 78,
   "id": "5fb24ab8",
   "metadata": {},
   "outputs": [],
   "source": [
    "class Banana():\n",
    "    \n",
    "    def __init__(self,name):\n",
    "        self.name = name\n",
    "        \n",
    "    def information(self):\n",
    "        return self.name + \" 300 calories\""
   ]
  },
  {
   "cell_type": "code",
   "execution_count": 79,
   "id": "84f76284",
   "metadata": {},
   "outputs": [],
   "source": [
    "banana = Banana(\"banana\")"
   ]
  },
  {
   "cell_type": "code",
   "execution_count": 80,
   "id": "8e4780dd",
   "metadata": {},
   "outputs": [],
   "source": [
    "apple = Apple(\"apple\")"
   ]
  },
  {
   "cell_type": "code",
   "execution_count": 81,
   "id": "d0cd2dbe",
   "metadata": {},
   "outputs": [],
   "source": [
    "fruitList = [banana,apple]"
   ]
  },
  {
   "cell_type": "code",
   "execution_count": 82,
   "id": "f7ab8d35",
   "metadata": {},
   "outputs": [
    {
     "name": "stdout",
     "output_type": "stream",
     "text": [
      "banana 300 calories\n",
      "apple 100 calories\n"
     ]
    }
   ],
   "source": [
    "for fruit in fruitList:\n",
    "    print(fruit.information())"
   ]
  },
  {
   "cell_type": "code",
   "execution_count": 83,
   "id": "a1001073",
   "metadata": {},
   "outputs": [],
   "source": [
    "#scope"
   ]
  },
  {
   "cell_type": "code",
   "execution_count": 84,
   "id": "f96f36a5",
   "metadata": {},
   "outputs": [],
   "source": [
    "number = 10"
   ]
  },
  {
   "cell_type": "code",
   "execution_count": 85,
   "id": "51315392",
   "metadata": {},
   "outputs": [
    {
     "name": "stdout",
     "output_type": "stream",
     "text": [
      "10\n"
     ]
    }
   ],
   "source": [
    "print(number)"
   ]
  },
  {
   "cell_type": "code",
   "execution_count": 87,
   "id": "dfeb3c5a",
   "metadata": {},
   "outputs": [],
   "source": [
    "number = 10\n",
    "def multiply(num1):\n",
    "    number = 5\n",
    "    return num1 * number"
   ]
  },
  {
   "cell_type": "code",
   "execution_count": 88,
   "id": "9d2e3e8b",
   "metadata": {},
   "outputs": [
    {
     "data": {
      "text/plain": [
       "50"
      ]
     },
     "execution_count": 88,
     "metadata": {},
     "output_type": "execute_result"
    }
   ],
   "source": [
    "multiply(10)"
   ]
  },
  {
   "cell_type": "code",
   "execution_count": 89,
   "id": "6b5aba32",
   "metadata": {},
   "outputs": [
    {
     "name": "stdout",
     "output_type": "stream",
     "text": [
      "10\n"
     ]
    }
   ],
   "source": [
    "print(number)"
   ]
  },
  {
   "cell_type": "code",
   "execution_count": 91,
   "id": "248a76c8",
   "metadata": {},
   "outputs": [
    {
     "name": "stdout",
     "output_type": "stream",
     "text": [
      "100\n",
      "10\n"
     ]
    }
   ],
   "source": [
    "number = 10\n",
    "def multiply(num1):\n",
    "    number = 5\n",
    "    return num1 * number\n",
    "print(multiply(20))\n",
    "print(number)"
   ]
  },
  {
   "cell_type": "code",
   "execution_count": 92,
   "id": "fe5c6ca4",
   "metadata": {},
   "outputs": [],
   "source": [
    "#legb -> l-> local, e-> enclosing, g-> global, b-> built-in"
   ]
  },
  {
   "cell_type": "code",
   "execution_count": 97,
   "id": "936115aa",
   "metadata": {},
   "outputs": [],
   "source": [
    "#global\n",
    "myName = \"Sena\"\n",
    "\n",
    "def myFunction():\n",
    "    #enclosing\n",
    "    myName = \"Enes\"\n",
    "    \n",
    "    def myFunction2():\n",
    "        #local\n",
    "        myName = \"Feyza\"\n",
    "        print(myName)\n",
    "        \n",
    "    myFunction2()"
   ]
  },
  {
   "cell_type": "code",
   "execution_count": 98,
   "id": "66b9f832",
   "metadata": {},
   "outputs": [
    {
     "name": "stdout",
     "output_type": "stream",
     "text": [
      "Feyza\n"
     ]
    }
   ],
   "source": [
    "myFunction()"
   ]
  },
  {
   "cell_type": "code",
   "execution_count": 105,
   "id": "ae250b07",
   "metadata": {},
   "outputs": [],
   "source": [
    "y = 10\n",
    "\n",
    "def newFunction():\n",
    "    global y\n",
    "    y = 5\n",
    "    print(y)"
   ]
  },
  {
   "cell_type": "code",
   "execution_count": 106,
   "id": "cb4f85c8",
   "metadata": {},
   "outputs": [
    {
     "name": "stdout",
     "output_type": "stream",
     "text": [
      "5\n"
     ]
    }
   ],
   "source": [
    "newFunction()"
   ]
  },
  {
   "cell_type": "code",
   "execution_count": 107,
   "id": "7fc437da",
   "metadata": {},
   "outputs": [
    {
     "name": "stdout",
     "output_type": "stream",
     "text": [
      "5\n"
     ]
    }
   ],
   "source": [
    "print(y) #global y'den dolayı bu şekilde çıktı verdi"
   ]
  },
  {
   "cell_type": "code",
   "execution_count": null,
   "id": "7c46696a",
   "metadata": {},
   "outputs": [],
   "source": []
  }
 ],
 "metadata": {
  "kernelspec": {
   "display_name": "Python 3 (ipykernel)",
   "language": "python",
   "name": "python3"
  },
  "language_info": {
   "codemirror_mode": {
    "name": "ipython",
    "version": 3
   },
   "file_extension": ".py",
   "mimetype": "text/x-python",
   "name": "python",
   "nbconvert_exporter": "python",
   "pygments_lexer": "ipython3",
   "version": "3.9.13"
  }
 },
 "nbformat": 4,
 "nbformat_minor": 5
}
