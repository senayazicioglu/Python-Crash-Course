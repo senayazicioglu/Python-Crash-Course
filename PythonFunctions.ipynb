{
 "cells": [
  {
   "cell_type": "code",
   "execution_count": 1,
   "id": "59308f0c",
   "metadata": {},
   "outputs": [],
   "source": [
    "#range"
   ]
  },
  {
   "cell_type": "code",
   "execution_count": 3,
   "id": "26b3f119",
   "metadata": {},
   "outputs": [
    {
     "data": {
      "text/plain": [
       "[50, 51, 52, 53, 54, 55, 56, 57, 58, 59]"
      ]
     },
     "execution_count": 3,
     "metadata": {},
     "output_type": "execute_result"
    }
   ],
   "source": [
    "list(range(50,60))"
   ]
  },
  {
   "cell_type": "code",
   "execution_count": 4,
   "id": "bdef58d5",
   "metadata": {},
   "outputs": [],
   "source": [
    "myList = [0,1,2,3,4,5,6,7,8,9]"
   ]
  },
  {
   "cell_type": "code",
   "execution_count": 6,
   "id": "7706d5d2",
   "metadata": {},
   "outputs": [
    {
     "name": "stdout",
     "output_type": "stream",
     "text": [
      "0\n",
      "1\n",
      "2\n",
      "3\n",
      "4\n",
      "5\n",
      "6\n",
      "7\n",
      "8\n",
      "9\n"
     ]
    }
   ],
   "source": [
    "for num in range(0,len(myList)):\n",
    "    print(num)"
   ]
  },
  {
   "cell_type": "code",
   "execution_count": 7,
   "id": "b655c654",
   "metadata": {},
   "outputs": [],
   "source": [
    "myList = [\"a\",\"b\",\"c\",\"d\",\"e\"]"
   ]
  },
  {
   "cell_type": "code",
   "execution_count": 10,
   "id": "49ac4862",
   "metadata": {},
   "outputs": [
    {
     "name": "stdout",
     "output_type": "stream",
     "text": [
      "0\n",
      "1\n"
     ]
    }
   ],
   "source": [
    "for letter in range(0,len(myList)-3):\n",
    "    print(letter)"
   ]
  },
  {
   "cell_type": "code",
   "execution_count": 14,
   "id": "35a2ff33",
   "metadata": {},
   "outputs": [
    {
     "data": {
      "text/plain": [
       "[0, 15, 30, 45, 60, 75, 90]"
      ]
     },
     "execution_count": 14,
     "metadata": {},
     "output_type": "execute_result"
    }
   ],
   "source": [
    "list(range(0,100,15))"
   ]
  },
  {
   "cell_type": "code",
   "execution_count": 15,
   "id": "3e259051",
   "metadata": {},
   "outputs": [],
   "source": [
    "#enumerate"
   ]
  },
  {
   "cell_type": "code",
   "execution_count": 16,
   "id": "acf9feb1",
   "metadata": {},
   "outputs": [],
   "source": [
    "myList = list(range(5,15))"
   ]
  },
  {
   "cell_type": "code",
   "execution_count": 17,
   "id": "25234c1f",
   "metadata": {},
   "outputs": [
    {
     "data": {
      "text/plain": [
       "[5, 6, 7, 8, 9, 10, 11, 12, 13, 14]"
      ]
     },
     "execution_count": 17,
     "metadata": {},
     "output_type": "execute_result"
    }
   ],
   "source": [
    "myList"
   ]
  },
  {
   "cell_type": "code",
   "execution_count": 18,
   "id": "a1d5dd24",
   "metadata": {},
   "outputs": [
    {
     "name": "stdout",
     "output_type": "stream",
     "text": [
      "number: 5 index: 0\n",
      "number: 6 index: 1\n",
      "number: 7 index: 2\n",
      "number: 8 index: 3\n",
      "number: 9 index: 4\n",
      "number: 10 index: 5\n",
      "number: 11 index: 6\n",
      "number: 12 index: 7\n",
      "number: 13 index: 8\n",
      "number: 14 index: 9\n"
     ]
    }
   ],
   "source": [
    "index = 0\n",
    "for number in myList:\n",
    "    print(f\"number: {number} index: {index}\")\n",
    "    index += 1"
   ]
  },
  {
   "cell_type": "code",
   "execution_count": 19,
   "id": "fe216050",
   "metadata": {},
   "outputs": [
    {
     "name": "stdout",
     "output_type": "stream",
     "text": [
      "(0, 5)\n",
      "(1, 6)\n",
      "(2, 7)\n",
      "(3, 8)\n",
      "(4, 9)\n",
      "(5, 10)\n",
      "(6, 11)\n",
      "(7, 12)\n",
      "(8, 13)\n",
      "(9, 14)\n"
     ]
    }
   ],
   "source": [
    "for element in enumerate(myList):\n",
    "    print(element)    "
   ]
  },
  {
   "cell_type": "code",
   "execution_count": 20,
   "id": "0fcf39f4",
   "metadata": {},
   "outputs": [
    {
     "name": "stdout",
     "output_type": "stream",
     "text": [
      "index: 0 number: 5\n",
      "index: 1 number: 6\n",
      "index: 2 number: 7\n",
      "index: 3 number: 8\n",
      "index: 4 number: 9\n",
      "index: 5 number: 10\n",
      "index: 6 number: 11\n",
      "index: 7 number: 12\n",
      "index: 8 number: 13\n",
      "index: 9 number: 14\n"
     ]
    }
   ],
   "source": [
    "for (index,number) in enumerate(myList):\n",
    "    print(f\"index: {index} number: {number}\")"
   ]
  },
  {
   "cell_type": "code",
   "execution_count": 21,
   "id": "de1c6ca5",
   "metadata": {},
   "outputs": [],
   "source": [
    "newList = []"
   ]
  },
  {
   "cell_type": "code",
   "execution_count": 22,
   "id": "bb327311",
   "metadata": {},
   "outputs": [],
   "source": [
    "myString = \"senayazicioglu\""
   ]
  },
  {
   "cell_type": "code",
   "execution_count": 24,
   "id": "72609faf",
   "metadata": {},
   "outputs": [],
   "source": [
    "for element in myString:\n",
    "    newList.append(element)"
   ]
  },
  {
   "cell_type": "code",
   "execution_count": 26,
   "id": "bc919a5b",
   "metadata": {},
   "outputs": [
    {
     "data": {
      "text/plain": [
       "['s', 'e', 'n', 'a', 'y', 'a', 'z', 'i', 'c', 'i', 'o', 'g', 'l', 'u']"
      ]
     },
     "execution_count": 26,
     "metadata": {},
     "output_type": "execute_result"
    }
   ],
   "source": [
    "newList"
   ]
  },
  {
   "cell_type": "code",
   "execution_count": 27,
   "id": "8ce1f703",
   "metadata": {},
   "outputs": [],
   "source": [
    "#one liner"
   ]
  },
  {
   "cell_type": "code",
   "execution_count": 28,
   "id": "01cec020",
   "metadata": {},
   "outputs": [],
   "source": [
    "newList = [element for element in myString]"
   ]
  },
  {
   "cell_type": "code",
   "execution_count": 29,
   "id": "a27e6d38",
   "metadata": {},
   "outputs": [
    {
     "data": {
      "text/plain": [
       "['s', 'e', 'n', 'a', 'y', 'a', 'z', 'i', 'c', 'i', 'o', 'g', 'l', 'u']"
      ]
     },
     "execution_count": 29,
     "metadata": {},
     "output_type": "execute_result"
    }
   ],
   "source": [
    "newList"
   ]
  },
  {
   "cell_type": "code",
   "execution_count": 30,
   "id": "1dcfef07",
   "metadata": {},
   "outputs": [],
   "source": [
    "#functions"
   ]
  },
  {
   "cell_type": "code",
   "execution_count": 31,
   "id": "20f303fa",
   "metadata": {},
   "outputs": [],
   "source": [
    "def helloPython():\n",
    "    print(\"hello\")\n",
    "    print(\"world\")\n",
    "    print(\"python\")"
   ]
  },
  {
   "cell_type": "code",
   "execution_count": 32,
   "id": "195c1b7c",
   "metadata": {},
   "outputs": [
    {
     "name": "stdout",
     "output_type": "stream",
     "text": [
      "hello\n",
      "world\n",
      "python\n"
     ]
    }
   ],
   "source": [
    "helloPython()"
   ]
  },
  {
   "cell_type": "code",
   "execution_count": 33,
   "id": "3b44623d",
   "metadata": {},
   "outputs": [],
   "source": [
    "def helloName(name):\n",
    "    print(f\"hello {name}\")"
   ]
  },
  {
   "cell_type": "code",
   "execution_count": 35,
   "id": "1728dccc",
   "metadata": {},
   "outputs": [
    {
     "name": "stdout",
     "output_type": "stream",
     "text": [
      "hello sena\n"
     ]
    }
   ],
   "source": [
    "helloName(\"sena\")"
   ]
  },
  {
   "cell_type": "code",
   "execution_count": 36,
   "id": "425d5e7a",
   "metadata": {},
   "outputs": [],
   "source": [
    "def pythonSum(number1,number2):\n",
    "    print(number1+number2)"
   ]
  },
  {
   "cell_type": "code",
   "execution_count": 37,
   "id": "80717e00",
   "metadata": {},
   "outputs": [
    {
     "name": "stdout",
     "output_type": "stream",
     "text": [
      "96\n"
     ]
    }
   ],
   "source": [
    "pythonSum(17,79)"
   ]
  },
  {
   "cell_type": "code",
   "execution_count": 38,
   "id": "5a8cecef",
   "metadata": {},
   "outputs": [
    {
     "name": "stdout",
     "output_type": "stream",
     "text": [
      "60\n"
     ]
    }
   ],
   "source": [
    "x = pythonSum(10,50)"
   ]
  },
  {
   "cell_type": "code",
   "execution_count": 39,
   "id": "431523b2",
   "metadata": {},
   "outputs": [],
   "source": [
    "x"
   ]
  },
  {
   "cell_type": "code",
   "execution_count": 40,
   "id": "b6b1aaaf",
   "metadata": {},
   "outputs": [
    {
     "data": {
      "text/plain": [
       "NoneType"
      ]
     },
     "execution_count": 40,
     "metadata": {},
     "output_type": "execute_result"
    }
   ],
   "source": [
    "type(x)"
   ]
  },
  {
   "cell_type": "code",
   "execution_count": 47,
   "id": "63f7ee3f",
   "metadata": {},
   "outputs": [
    {
     "name": "stdout",
     "output_type": "stream",
     "text": [
      "x is None\n"
     ]
    }
   ],
   "source": [
    "if x: \n",
    "    print(x)\n",
    "else:\n",
    "    print(\"x is None\")"
   ]
  },
  {
   "cell_type": "code",
   "execution_count": 48,
   "id": "53f3de33",
   "metadata": {},
   "outputs": [],
   "source": [
    "def returnSum(num1,num2,num3):\n",
    "    print(num1+num2+num3)\n",
    "    return num1+num2+num3"
   ]
  },
  {
   "cell_type": "code",
   "execution_count": 49,
   "id": "820403da",
   "metadata": {},
   "outputs": [
    {
     "name": "stdout",
     "output_type": "stream",
     "text": [
      "150\n"
     ]
    }
   ],
   "source": [
    "x = returnSum(30,50,70)"
   ]
  },
  {
   "cell_type": "code",
   "execution_count": 50,
   "id": "6bf446c8",
   "metadata": {},
   "outputs": [
    {
     "data": {
      "text/plain": [
       "150"
      ]
     },
     "execution_count": 50,
     "metadata": {},
     "output_type": "execute_result"
    }
   ],
   "source": [
    "x"
   ]
  },
  {
   "cell_type": "code",
   "execution_count": 51,
   "id": "7b764f8f",
   "metadata": {},
   "outputs": [
    {
     "data": {
      "text/plain": [
       "int"
      ]
     },
     "execution_count": 51,
     "metadata": {},
     "output_type": "execute_result"
    }
   ],
   "source": [
    "type(x)"
   ]
  },
  {
   "cell_type": "code",
   "execution_count": 52,
   "id": "be45c6ab",
   "metadata": {},
   "outputs": [],
   "source": [
    "def stringCheck(s):\n",
    "    if s == \"sena\":\n",
    "        print(\"sena\")\n",
    "    else:\n",
    "        print(\"not sena\")"
   ]
  },
  {
   "cell_type": "code",
   "execution_count": 53,
   "id": "876ec834",
   "metadata": {},
   "outputs": [
    {
     "name": "stdout",
     "output_type": "stream",
     "text": [
      "sena\n"
     ]
    }
   ],
   "source": [
    "stringCheck(\"sena\")"
   ]
  },
  {
   "cell_type": "code",
   "execution_count": 54,
   "id": "c9a86302",
   "metadata": {},
   "outputs": [
    {
     "name": "stdout",
     "output_type": "stream",
     "text": [
      "not sena\n"
     ]
    }
   ],
   "source": [
    "stringCheck(\"aıuds\")"
   ]
  },
  {
   "cell_type": "code",
   "execution_count": 55,
   "id": "a707d35f",
   "metadata": {},
   "outputs": [],
   "source": [
    "def defaultValueFunction(name=\"sena\"):\n",
    "    print(name)"
   ]
  },
  {
   "cell_type": "code",
   "execution_count": 56,
   "id": "188fcb6c",
   "metadata": {},
   "outputs": [
    {
     "name": "stdout",
     "output_type": "stream",
     "text": [
      "sena\n"
     ]
    }
   ],
   "source": [
    "defaultValueFunction()"
   ]
  },
  {
   "cell_type": "code",
   "execution_count": null,
   "id": "6f5ad771",
   "metadata": {},
   "outputs": [],
   "source": [
    "def defaultValueFunction(name=\"sena\"):\n",
    "    print(name)"
   ]
  }
 ],
 "metadata": {
  "kernelspec": {
   "display_name": "Python 3 (ipykernel)",
   "language": "python",
   "name": "python3"
  },
  "language_info": {
   "codemirror_mode": {
    "name": "ipython",
    "version": 3
   },
   "file_extension": ".py",
   "mimetype": "text/x-python",
   "name": "python",
   "nbconvert_exporter": "python",
   "pygments_lexer": "ipython3",
   "version": "3.9.13"
  }
 },
 "nbformat": 4,
 "nbformat_minor": 5
}
